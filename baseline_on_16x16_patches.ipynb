{
  "nbformat": 4,
  "nbformat_minor": 0,
  "metadata": {
    "colab": {
      "name": "baseline_on_16x16_patches.ipynb",
      "version": "0.3.2",
      "provenance": [],
      "collapsed_sections": []
    },
    "kernelspec": {
      "name": "python3",
      "display_name": "Python 3"
    },
    "accelerator": "GPU"
  },
  "cells": [
    {
      "cell_type": "code",
      "metadata": {
        "id": "8u8z7SQ2wcYz",
        "colab_type": "code",
        "outputId": "050dee77-49a7-4c71-d8c8-0a28615acf7a",
        "colab": {
          "base_uri": "https://localhost:8080/",
          "height": 54
        }
      },
      "source": [
        "# mount drive\n",
        "\n",
        "from google.colab import drive\n",
        "drive.mount('/content/drive')\n",
        "\n",
        "import os\n",
        "os.chdir('/content/drive/My Drive/Colab Notebooks')"
      ],
      "execution_count": 0,
      "outputs": [
        {
          "output_type": "stream",
          "text": [
            "Drive already mounted at /content/drive; to attempt to forcibly remount, call drive.mount(\"/content/drive\", force_remount=True).\n"
          ],
          "name": "stdout"
        }
      ]
    },
    {
      "cell_type": "code",
      "metadata": {
        "id": "yVd0DesmwkXT",
        "colab_type": "code",
        "colab": {}
      },
      "source": [
        "# libs\n",
        "\n",
        "import h5py\n",
        "import matplotlib.pyplot as plt\n",
        "import matplotlib.image as mpimg\n",
        "import numpy as np\n",
        "import pickle\n",
        "from sklearn.linear_model import LogisticRegression\n",
        "from sklearn.svm import SVC\n",
        "from sklearn.naive_bayes import MultinomialNB\n",
        "from sklearn.metrics import f1_score\n",
        "from sklearn.metrics import accuracy_score\n",
        "from sklearn.model_selection import cross_validate\n",
        "from sklearn.model_selection import train_test_split"
      ],
      "execution_count": 0,
      "outputs": []
    },
    {
      "cell_type": "code",
      "metadata": {
        "id": "j2EEoMvBwx5i",
        "colab_type": "code",
        "colab": {}
      },
      "source": [
        "def getPlots(idx,X_valid,y_valid,y_pred):\n",
        "    plt.figure(figsize=(10, 5))\n",
        "    plt.subplot(131)\n",
        "    plt.imshow(X_valid[idx, :, :, :])\n",
        "    plt.title('Image')\n",
        "    plt.xticks([])\n",
        "    plt.yticks([])\n",
        "    plt.subplot(132)\n",
        "    plt.imshow(y_valid[idx, :, :, 0])\n",
        "    plt.title('Ground Truth')\n",
        "    plt.xticks([])\n",
        "    plt.yticks([])\n",
        "    plt.subplot(133)\n",
        "    plt.imshow(y_pred[idx, :, :, 0])\n",
        "    plt.title('Segmented Image')\n",
        "    plt.xticks([])\n",
        "    plt.yticks([])\n",
        "    plt.savefig(save_folder + 'validation/im_{}.png'.format(idx), dpi=200)\n",
        "    \n",
        "def getData():\n",
        "    images = []\n",
        "    gt = []\n",
        "    for i in range(1, 101):\n",
        "        if (i <= 9):\n",
        "            # fileName = 'cells/00{}cell.png'.format(i)\n",
        "            fileName_img = 'data/training/images/satImage_00{}.png'.format(i)\n",
        "            fileName_gt = 'data/training/groundtruth/satImage_00{}.png'.format(i)\n",
        "        elif (i < 100):\n",
        "            # fileName = 'cells/0{}cell.png'.format(i)\n",
        "            fileName_img = 'data/training/images/satImage_0{}.png'.format(i)\n",
        "            fileName_gt = 'data/training/groundtruth/satImage_0{}.png'.format(i)\n",
        "        else:\n",
        "            # fileName = 'cells/{}cell.png'.format(i)\n",
        "            fileName_img = 'data/training/images/satImage_{}.png'.format(i)\n",
        "            fileName_gt = 'data/training/groundtruth/satImage_{}.png'.format(i)\n",
        "        im = plt.imread(fileName_img)\n",
        "        im_gt = plt.imread(fileName_gt)\n",
        "        \n",
        "        im_sz = im.shape[1]\n",
        "        \n",
        "        for i in range(int(im_sz/16)):\n",
        "          for j in range(int(im_sz/16)):\n",
        "            h = i*16\n",
        "            v = j*16\n",
        "            images.append(im[h:(h+16),v:(v+16)].flatten())\n",
        "            gt.append(patch_to_label(im_gt[h:(h+16),v:(v+16)]))\n",
        "\n",
        "    images = np.stack(images, axis=0)\n",
        "    gt = np.stack(gt, axis=0)\n",
        "\n",
        "    return [images, gt]"
      ],
      "execution_count": 0,
      "outputs": []
    },
    {
      "cell_type": "code",
      "metadata": {
        "id": "qkU-yGAsGXfD",
        "colab_type": "code",
        "colab": {}
      },
      "source": [
        "foreground_threshold = 0.25 # percentage of pixels > 1 required to assign a foreground label to a patch\n",
        "\n",
        "# assign a label to a patch\n",
        "def patch_to_label(patch):\n",
        "    df = np.mean(patch)\n",
        "    if df > foreground_threshold:\n",
        "        return 1\n",
        "    else:\n",
        "        return 0"
      ],
      "execution_count": 0,
      "outputs": []
    },
    {
      "cell_type": "code",
      "metadata": {
        "id": "H9Ym9axLw9V9",
        "colab_type": "code",
        "outputId": "180db8e9-1335-4df3-c810-e2aa7cdab553",
        "colab": {
          "base_uri": "https://localhost:8080/",
          "height": 119
        }
      },
      "source": [
        "save_folder = \"./Baseline_LogReg/\"\n",
        "frac_train = 0.95\n",
        "\n",
        "if not os.path.exists(save_folder):\n",
        "    os.makedirs(save_folder)\n",
        "    \n",
        "if not os.path.isfile('training_data.h5'):\n",
        "    [X, y] = getData()\n",
        "    file_data = h5py.File('training_data.h5','w')\n",
        "    file_data['images'] = X\n",
        "    file_data['groundTruth'] = y\n",
        "    file_data.close()\n",
        "else:\n",
        "    file_data = h5py.File('training_data.h5','r')\n",
        "    X = file_data['images'][()]\n",
        "    y = file_data['groundTruth'][()]\n",
        "    file_data.close()\n",
        "\n",
        "print(X.shape)\n",
        "print(y.shape)\n",
        "n_samples = X.shape[0]\n",
        "    \n",
        "# Split the training and test dataset\n",
        "X_train, X_valid, y_train, y_valid = train_test_split(X, y, test_size=0.33,\n",
        "                                                     random_state=42)\n",
        "\n",
        "print(X_train.shape)\n",
        "print(y_train.shape)\n",
        "print(X_valid.shape)\n",
        "print(y_valid.shape)"
      ],
      "execution_count": 0,
      "outputs": [
        {
          "output_type": "stream",
          "text": [
            "(62500, 768)\n",
            "(62500,)\n",
            "(41875, 768)\n",
            "(41875,)\n",
            "(20625, 768)\n",
            "(20625,)\n"
          ],
          "name": "stdout"
        }
      ]
    },
    {
      "cell_type": "code",
      "metadata": {
        "id": "4d2ymfymA9NF",
        "colab_type": "code",
        "outputId": "ac02b35f-99a5-4e4d-cab7-2e1a9ef2c894",
        "colab": {
          "base_uri": "https://localhost:8080/",
          "height": 190
        }
      },
      "source": [
        "lr = LogisticRegression(solver='liblinear', penalty='l2', n_jobs=-1, max_iter=10^3)\n",
        "lr.fit(X_train, y_train)"
      ],
      "execution_count": 0,
      "outputs": [
        {
          "output_type": "stream",
          "text": [
            "/usr/local/lib/python3.6/dist-packages/sklearn/linear_model/logistic.py:1544: UserWarning: 'n_jobs' > 1 does not have any effect when 'solver' is set to 'liblinear'. Got 'n_jobs' = 2.\n",
            "  \" = {}.\".format(effective_n_jobs(self.n_jobs)))\n",
            "/usr/local/lib/python3.6/dist-packages/sklearn/svm/base.py:929: ConvergenceWarning: Liblinear failed to converge, increase the number of iterations.\n",
            "  \"the number of iterations.\", ConvergenceWarning)\n"
          ],
          "name": "stderr"
        },
        {
          "output_type": "execute_result",
          "data": {
            "text/plain": [
              "LogisticRegression(C=1.0, class_weight=None, dual=False, fit_intercept=True,\n",
              "                   intercept_scaling=1, l1_ratio=None, max_iter=9,\n",
              "                   multi_class='warn', n_jobs=-1, penalty='l2',\n",
              "                   random_state=None, solver='liblinear', tol=0.0001, verbose=0,\n",
              "                   warm_start=False)"
            ]
          },
          "metadata": {
            "tags": []
          },
          "execution_count": 6
        }
      ]
    },
    {
      "cell_type": "code",
      "metadata": {
        "id": "C6aQclefSZC1",
        "colab_type": "code",
        "outputId": "0ce5044b-5c71-4587-eb19-2a27ba20a25c",
        "colab": {
          "base_uri": "https://localhost:8080/",
          "height": 85
        }
      },
      "source": [
        "y_pred = lr.predict(X_valid)\n",
        "print(f1_score(y_pred, y_valid))\n",
        "print(accuracy_score(y_pred, y_valid))\n",
        "\n",
        "y_pred2 = lr.predict(X_train)\n",
        "print(f1_score(y_pred2, y_train))\n",
        "print(accuracy_score(y_pred2, y_train))"
      ],
      "execution_count": 0,
      "outputs": [
        {
          "output_type": "stream",
          "text": [
            "0.0\n",
            "0.7403151515151515\n",
            "0.000549349935909174\n",
            "0.7393194029850746\n"
          ],
          "name": "stdout"
        }
      ]
    },
    {
      "cell_type": "code",
      "metadata": {
        "id": "ojpCuL0lJuiM",
        "colab_type": "code",
        "outputId": "a1bbfbee-f9bb-419f-db29-ec2409cd9674",
        "colab": {
          "base_uri": "https://localhost:8080/",
          "height": 85
        }
      },
      "source": [
        "sv = SVC(gamma='auto')\n",
        "sv.fit(X_train, y_train)"
      ],
      "execution_count": 0,
      "outputs": [
        {
          "output_type": "execute_result",
          "data": {
            "text/plain": [
              "SVC(C=1.0, cache_size=200, class_weight=None, coef0=0.0,\n",
              "    decision_function_shape='ovr', degree=3, gamma='auto', kernel='rbf',\n",
              "    max_iter=-1, probability=False, random_state=None, shrinking=True,\n",
              "    tol=0.001, verbose=False)"
            ]
          },
          "metadata": {
            "tags": []
          },
          "execution_count": 9
        }
      ]
    },
    {
      "cell_type": "code",
      "metadata": {
        "id": "K7owPXerSIXy",
        "colab_type": "code",
        "outputId": "f968177c-0730-4531-e653-65ededdbfdaa",
        "colab": {
          "base_uri": "https://localhost:8080/",
          "height": 173
        }
      },
      "source": [
        "y_pred = sv.predict(X_valid)\n",
        "print(f1_score(y_pred, y_valid))\n",
        "print(accuracy_score(y_pred, y_valid))\n",
        "\n",
        "y_pred2 = sv.predict(X_train)\n",
        "print(f1_score(y_pred2, y_train))\n",
        "print(accuracy_score(y_pred2, y_train))"
      ],
      "execution_count": 0,
      "outputs": [
        {
          "output_type": "stream",
          "text": [
            "/usr/local/lib/python3.6/dist-packages/sklearn/metrics/classification.py:1439: UndefinedMetricWarning: F-score is ill-defined and being set to 0.0 due to no true samples.\n",
            "  'recall', 'true', average, warn_for)\n"
          ],
          "name": "stderr"
        },
        {
          "output_type": "stream",
          "text": [
            "0.0\n",
            "0.741430303030303\n",
            "0.0\n",
            "0.7407044776119402\n"
          ],
          "name": "stdout"
        },
        {
          "output_type": "stream",
          "text": [
            "/usr/local/lib/python3.6/dist-packages/sklearn/metrics/classification.py:1439: UndefinedMetricWarning: F-score is ill-defined and being set to 0.0 due to no true samples.\n",
            "  'recall', 'true', average, warn_for)\n"
          ],
          "name": "stderr"
        }
      ]
    },
    {
      "cell_type": "code",
      "metadata": {
        "id": "u7SMrpiiSp-x",
        "colab_type": "code",
        "outputId": "3a0d61bb-c6d0-4f03-eb53-b2d1870e00f8",
        "colab": {
          "base_uri": "https://localhost:8080/",
          "height": 34
        }
      },
      "source": [
        "nb = MultinomialNB()\n",
        "nb.fit(X_train, y_train)"
      ],
      "execution_count": 0,
      "outputs": [
        {
          "output_type": "execute_result",
          "data": {
            "text/plain": [
              "MultinomialNB(alpha=1.0, class_prior=None, fit_prior=True)"
            ]
          },
          "metadata": {
            "tags": []
          },
          "execution_count": 11
        }
      ]
    },
    {
      "cell_type": "code",
      "metadata": {
        "id": "sfuQ7yv4S_sJ",
        "colab_type": "code",
        "outputId": "cbfa60d4-6ac2-44be-99c3-9bbe6e1b237f",
        "colab": {
          "base_uri": "https://localhost:8080/",
          "height": 85
        }
      },
      "source": [
        "y_pred = nb.predict(X_valid)\n",
        "print(f1_score(y_pred, y_valid))\n",
        "print(accuracy_score(y_pred, y_valid))\n",
        "\n",
        "y_pred2 = nb.predict(X_train)\n",
        "print(f1_score(y_pred2, y_train))\n",
        "print(accuracy_score(y_pred2, y_train))"
      ],
      "execution_count": 0,
      "outputs": [
        {
          "output_type": "stream",
          "text": [
            "0.004277312422028159\n",
            "0.7291151515151515\n",
            "0.005420528064346913\n",
            "0.728334328358209\n"
          ],
          "name": "stdout"
        }
      ]
    },
    {
      "cell_type": "code",
      "metadata": {
        "id": "0_T73C3STBF6",
        "colab_type": "code",
        "colab": {}
      },
      "source": [
        ""
      ],
      "execution_count": 0,
      "outputs": []
    }
  ]
}